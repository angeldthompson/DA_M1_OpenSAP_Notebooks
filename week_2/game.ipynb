{
 "cells": [
  {
   "cell_type": "code",
   "execution_count": null,
   "metadata": {},
   "outputs": [
    {
     "name": "stdout",
     "output_type": "stream",
     "text": [
      "Welcome to the Monty Python Adventure!\n",
      "You are about to embark on a quest for the Holy Grail. Beware of dangerous encounters!\n",
      "Welcome Sir, steve of Pythonia!\n",
      "A knight steps in front of you and says, 'None shall pass!'\n",
      "The knight draws his sword. It's time for battle!\n",
      "A troll appears and asks you three questions!\n",
      "Congratulations, you have completed your quest!\n",
      "Farewell, steve!\n"
     ]
    }
   ],
   "source": [
    "#Welcome player to game\n",
    "print(\"Welcome to the Monty Python Adventure!\")\n",
    "print(\"You are about to embark on a quest for the Holy Grail. Beware of dangerous encounters!\")\n",
    "\n",
    "#Ask player for name\n",
    "player_name = input(\"What is your name, brave adventurer?\")\n",
    "print(f\"Welcome Sir,\", player_name, \"of Pythonia!\")\n",
    "\n",
    "#Start story line\n",
    "print(\"A knight steps in front of you and says, 'None shall pass!'\")\n",
    "\n",
    "#Ask if player wishes to fight or reason with knight\n",
    "player_choice = input(\"Choose 1 to fight the knight or 2 to reason with him: \")\n",
    "\n",
    "if player_choice == \"1\":\n",
    "    print(\"The knight draws his sword. It's time for battle!\")\n",
    "elif player_choice == \"2\":\n",
    "    print(\"The knight scoffs at your attempt to reason and attacks anyway.\")\n",
    "else:\n",
    "    print(\"You hesitate... and the knight charges!\")\n",
    "\n",
    "#Ask player if they want to cross Bridge of Death\n",
    "while True:\n",
    "    response = input(\"Do you want to cross the Bridge of Death? (yes/no)\").lower()\n",
    "    if response == \"yes\":\n",
    "        print(\"A troll appears and asks you three questions!\")\n",
    "        break\n",
    "    elif response == \"no\":\n",
    "        print(\"You wisely turn back.\")\n",
    "        break\n",
    "    else: \n",
    "        print(\"Please answer 'yes' or 'no'.\")\n",
    "\n",
    "#Inform player they have completed quest\n",
    "print(\"Congratulations, you have completed your quest!\")\n",
    "print(f\"Farewell, {player_name}!\")\n",
    "\n",
    "\n",
    "\n",
    "\n",
    "\n"
   ]
  }
 ],
 "metadata": {
  "kernelspec": {
   "display_name": "Python 3",
   "language": "python",
   "name": "python3"
  },
  "language_info": {
   "codemirror_mode": {
    "name": "ipython",
    "version": 3
   },
   "file_extension": ".py",
   "mimetype": "text/x-python",
   "name": "python",
   "nbconvert_exporter": "python",
   "pygments_lexer": "ipython3",
   "version": "3.13.2"
  }
 },
 "nbformat": 4,
 "nbformat_minor": 2
}
