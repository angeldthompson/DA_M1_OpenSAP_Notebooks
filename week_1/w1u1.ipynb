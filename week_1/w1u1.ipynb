{
 "cells": [
  {
   "cell_type": "markdown",
   "id": "aa21b02c",
   "metadata": {},
   "source": [
    "# Python - Introduction\n",
    "In the following Notebooks, the key concepts of computer programs are discussed.\n",
    "\n",
    "\n",
    "# Python-programs consist of statements, which are executed one by one\n",
    "What is a Python-program? More generally, what is a (computer) program? All Python programs consist of a series of\n",
    "statements or instructions. And these statements are executed one by one. (This order of execution can be changed e.g. by\n",
    "conditions, which will be discussed later.) An example of a statement is the multiplication of two numbers.\n",
    "Multiplication is represented in Python by the character `*`.\n",
    "\n",
    "If just one statement is entered, the Python program can be used as a simple calculator. In the following cell, there is\n",
    "actually a complete Python program consisting of only one statement. The result of this operation, the output, is\n",
    "written under the cell, after the cell has been executed. (The cell can be executed by clicking on it and entering\n",
    "Shift-Return or CTRL-Return).\n",
    "\n",
    "If you change the values or the operator (i.e. the `*` or the `+`), you can do simple calculations."
   ]
  },
  {
   "cell_type": "code",
   "execution_count": 1,
   "id": "c631533e",
   "metadata": {},
   "outputs": [
    {
     "data": {
      "text/plain": [
       "12"
      ]
     },
     "execution_count": 1,
     "metadata": {},
     "output_type": "execute_result"
    }
   ],
   "source": [
    "5 + 7"
   ]
  },
  {
   "cell_type": "code",
   "execution_count": 2,
   "id": "81faf770",
   "metadata": {},
   "outputs": [
    {
     "data": {
      "text/plain": [
       "168"
      ]
     },
     "execution_count": 2,
     "metadata": {},
     "output_type": "execute_result"
    }
   ],
   "source": [
    "12 * 14"
   ]
  },
  {
   "cell_type": "markdown",
   "id": "046e08c7",
   "metadata": {},
   "source": [
    "# Mathematical Operators\n",
    "The `*` is called an operator in Python. The following table contains a list of frequently used arithmetic operators.\n",
    "\n",
    "| Description      | Operator | Example  | Result             |\n",
    "| ---------------- | -------- | -------- | ------------------ |\n",
    "| Addition         | +        | 2 + 3    | 5                  |\n",
    "| Subtraction      | -        | 2 - 3    | -1                 |\n",
    "| Multiplication   | *        | 2 * 3    | 6                  |\n",
    "| Division         | /        | 7 / 3    | 2.3333333333333335 |\n",
    "| Integer Division | //       | 7 // 3   | 2                  |\n",
    "| Modulo           | %        | 7 % 3    | 1                  |\n",
    "| Exponentiation   | **       | 2 ** 0.5 | 1.4142135623730951 |\n",
    " \n",
    "Python uses the operators precedence known from math. Multiplication and division are performed before addition and\n",
    "subtraction. Parenthesis can be used to influence the order of execution.\n",
    " \n",
    "Additionally, a brief explanation of integer division and modulo: In primary school, you first learned about integer\n",
    "division. If you divide 7 by 3 (and do not yet know any decimal numbers), the result is 2 with a remainder of 1. Integer\n",
    "division and modulo lead to exactly these results. The integer division of `7 // 3` results in `2`. The result of the\n",
    "modulo operation `7 % 3` is `1`, the remainder of the division. Especially the modulo operation is **frequently** used\n",
    "in programming!\n",
    "\n",
    "In comparison to a calculator, it is possible to enter bigger formulas into a cell."
   ]
  },
  {
   "cell_type": "code",
   "execution_count": 3,
   "id": "17ab570d",
   "metadata": {},
   "outputs": [
    {
     "data": {
      "text/plain": [
       "35.28571428571429"
      ]
     },
     "execution_count": 3,
     "metadata": {},
     "output_type": "execute_result"
    }
   ],
   "source": [
    "1 + 2 * 3 * 4 * 5 - 6 / 7 % 8 ** 9 * 100"
   ]
  },
  {
   "cell_type": "code",
   "execution_count": 4,
   "id": "a2b8fb37",
   "metadata": {},
   "outputs": [
    {
     "data": {
      "text/plain": [
       "1.00000267634068"
      ]
     },
     "execution_count": 4,
     "metadata": {},
     "output_type": "execute_result"
    }
   ],
   "source": [
    "1 + 2 * (3 * 4 * 5 - 6) / (7 % 8) ** 9"
   ]
  },
  {
   "cell_type": "markdown",
   "id": "a0fc7648",
   "metadata": {},
   "source": [
    "## Fun Fact: Python can handle really large numbers\n",
    "Unlike the calculator and unlike many other programming languages, Python can handle really large numbers. For integer\n",
    "values (i.e. for whole numbers) there is no size constraint in Python apart from the internal memory of the machine\n",
    "Python is running on. Because of this, you can multiply or potentiate pretty large numbers without problems."
   ]
  },
  {
   "cell_type": "code",
   "execution_count": 5,
   "id": "52463ddc",
   "metadata": {},
   "outputs": [
    {
     "data": {
      "text/plain": [
       "75193524187823206218262226116669016673704440711252281122217616"
      ]
     },
     "execution_count": 5,
     "metadata": {},
     "output_type": "execute_result"
    }
   ],
   "source": [
    "16485345486715646548961354165486 * 4561234354986145456455156446456"
   ]
  },
  {
   "cell_type": "code",
   "execution_count": 6,
   "id": "e1aacbd1",
   "metadata": {},
   "outputs": [
    {
     "ename": "ValueError",
     "evalue": "Exceeds the limit (4300 digits) for integer string conversion; use sys.set_int_max_str_digits() to increase the limit",
     "output_type": "error",
     "traceback": [
      "\u001b[31m---------------------------------------------------------------------------\u001b[39m",
      "\u001b[31mValueError\u001b[39m                                Traceback (most recent call last)",
      "\u001b[36mFile \u001b[39m\u001b[32m~\\AppData\\Roaming\\Python\\Python313\\site-packages\\IPython\\core\\formatters.py:770\u001b[39m, in \u001b[36mPlainTextFormatter.__call__\u001b[39m\u001b[34m(self, obj)\u001b[39m\n\u001b[32m    763\u001b[39m stream = StringIO()\n\u001b[32m    764\u001b[39m printer = pretty.RepresentationPrinter(stream, \u001b[38;5;28mself\u001b[39m.verbose,\n\u001b[32m    765\u001b[39m     \u001b[38;5;28mself\u001b[39m.max_width, \u001b[38;5;28mself\u001b[39m.newline,\n\u001b[32m    766\u001b[39m     max_seq_length=\u001b[38;5;28mself\u001b[39m.max_seq_length,\n\u001b[32m    767\u001b[39m     singleton_pprinters=\u001b[38;5;28mself\u001b[39m.singleton_printers,\n\u001b[32m    768\u001b[39m     type_pprinters=\u001b[38;5;28mself\u001b[39m.type_printers,\n\u001b[32m    769\u001b[39m     deferred_pprinters=\u001b[38;5;28mself\u001b[39m.deferred_printers)\n\u001b[32m--> \u001b[39m\u001b[32m770\u001b[39m \u001b[43mprinter\u001b[49m\u001b[43m.\u001b[49m\u001b[43mpretty\u001b[49m\u001b[43m(\u001b[49m\u001b[43mobj\u001b[49m\u001b[43m)\u001b[49m\n\u001b[32m    771\u001b[39m printer.flush()\n\u001b[32m    772\u001b[39m \u001b[38;5;28;01mreturn\u001b[39;00m stream.getvalue()\n",
      "\u001b[36mFile \u001b[39m\u001b[32m~\\AppData\\Roaming\\Python\\Python313\\site-packages\\IPython\\lib\\pretty.py:386\u001b[39m, in \u001b[36mRepresentationPrinter.pretty\u001b[39m\u001b[34m(self, obj)\u001b[39m\n\u001b[32m    383\u001b[39m \u001b[38;5;28;01mfor\u001b[39;00m \u001b[38;5;28mcls\u001b[39m \u001b[38;5;129;01min\u001b[39;00m _get_mro(obj_class):\n\u001b[32m    384\u001b[39m     \u001b[38;5;28;01mif\u001b[39;00m \u001b[38;5;28mcls\u001b[39m \u001b[38;5;129;01min\u001b[39;00m \u001b[38;5;28mself\u001b[39m.type_pprinters:\n\u001b[32m    385\u001b[39m         \u001b[38;5;66;03m# printer registered in self.type_pprinters\u001b[39;00m\n\u001b[32m--> \u001b[39m\u001b[32m386\u001b[39m         \u001b[38;5;28;01mreturn\u001b[39;00m \u001b[38;5;28;43mself\u001b[39;49m\u001b[43m.\u001b[49m\u001b[43mtype_pprinters\u001b[49m\u001b[43m[\u001b[49m\u001b[38;5;28;43mcls\u001b[39;49m\u001b[43m]\u001b[49m\u001b[43m(\u001b[49m\u001b[43mobj\u001b[49m\u001b[43m,\u001b[49m\u001b[43m \u001b[49m\u001b[38;5;28;43mself\u001b[39;49m\u001b[43m,\u001b[49m\u001b[43m \u001b[49m\u001b[43mcycle\u001b[49m\u001b[43m)\u001b[49m\n\u001b[32m    387\u001b[39m     \u001b[38;5;28;01melse\u001b[39;00m:\n\u001b[32m    388\u001b[39m         \u001b[38;5;66;03m# deferred printer\u001b[39;00m\n\u001b[32m    389\u001b[39m         printer = \u001b[38;5;28mself\u001b[39m._in_deferred_types(\u001b[38;5;28mcls\u001b[39m)\n",
      "\u001b[36mFile \u001b[39m\u001b[32m~\\AppData\\Roaming\\Python\\Python313\\site-packages\\IPython\\lib\\pretty.py:786\u001b[39m, in \u001b[36m_repr_pprint\u001b[39m\u001b[34m(obj, p, cycle)\u001b[39m\n\u001b[32m    784\u001b[39m \u001b[38;5;250m\u001b[39m\u001b[33;03m\"\"\"A pprint that just redirects to the normal repr function.\"\"\"\u001b[39;00m\n\u001b[32m    785\u001b[39m \u001b[38;5;66;03m# Find newlines and replace them with p.break_()\u001b[39;00m\n\u001b[32m--> \u001b[39m\u001b[32m786\u001b[39m output = \u001b[38;5;28;43mrepr\u001b[39;49m\u001b[43m(\u001b[49m\u001b[43mobj\u001b[49m\u001b[43m)\u001b[49m\n\u001b[32m    787\u001b[39m lines = output.splitlines()\n\u001b[32m    788\u001b[39m \u001b[38;5;28;01mwith\u001b[39;00m p.group():\n",
      "\u001b[31mValueError\u001b[39m: Exceeds the limit (4300 digits) for integer string conversion; use sys.set_int_max_str_digits() to increase the limit"
     ]
    }
   ],
   "source": [
    "2 ** 800000"
   ]
  }
 ],
 "metadata": {
  "interpreter": {
   "hash": "ac59ebe37160ed0dfa835113d9b8498d9f09ceb179beaac4002f036b9467c963"
  },
  "kernelspec": {
   "display_name": "Python 3",
   "language": "python",
   "name": "python3"
  },
  "language_info": {
   "codemirror_mode": {
    "name": "ipython",
    "version": 3
   },
   "file_extension": ".py",
   "mimetype": "text/x-python",
   "name": "python",
   "nbconvert_exporter": "python",
   "pygments_lexer": "ipython3",
   "version": "3.13.2"
  }
 },
 "nbformat": 4,
 "nbformat_minor": 5
}
